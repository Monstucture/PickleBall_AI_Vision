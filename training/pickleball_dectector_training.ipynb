{
 "cells": [
  {
   "cell_type": "markdown",
   "id": "c8442a63",
   "metadata": {},
   "source": [
    "# Get Data Set"
   ]
  },
  {
   "cell_type": "code",
   "execution_count": 1,
   "id": "5743baae",
   "metadata": {},
   "outputs": [
    {
     "data": {
      "text/plain": [
       "True"
      ]
     },
     "execution_count": 1,
     "metadata": {},
     "output_type": "execute_result"
    }
   ],
   "source": [
    "from roboflow import Roboflow\n",
    "from ultralytics import YOLO\n",
    "import shutil\n",
    "import os\n",
    "from dotenv import load_dotenv\n",
    "load_dotenv('.env.local')"
   ]
  },
  {
   "cell_type": "code",
   "execution_count": 2,
   "id": "ba5961c5",
   "metadata": {},
   "outputs": [],
   "source": [
    "# Load environment variables from .env.local\n",
    "API_KEY = os.getenv(\"API_KEY\")"
   ]
  },
  {
   "cell_type": "code",
   "execution_count": 3,
   "id": "e70ab122",
   "metadata": {},
   "outputs": [
    {
     "name": "stdout",
     "output_type": "stream",
     "text": [
      "loading Roboflow workspace...\n",
      "loading Roboflow project...\n"
     ]
    }
   ],
   "source": [
    "# Initialize Roboflow with the API key\n",
    "rf = Roboflow(api_key=API_KEY)\n",
    "project = rf.workspace(\"monstucture\").project(\"pickleball-vision-vtw2r\")\n",
    "version = project.version(1)\n",
    "dataset = version.download(\"yolov5\")"
   ]
  },
  {
   "cell_type": "code",
   "execution_count": null,
   "id": "4642b97a",
   "metadata": {},
   "outputs": [],
   "source": [
    "# shutil.move('Pickleball-Vision-1/train', 'Pickleball-Vision-1/Pickleball-Vision-1/train',)\n",
    "# shutil.move('Pickleball-Vision-1/test', 'Pickleball-Vision-1/Pickleball-Vision-1/test',)\n",
    "# shutil.move('Pickleball-Vision-1/valid', 'Pickleball-Vision-1/Pickleball-Vision-1/valid',)"
   ]
  },
  {
   "cell_type": "code",
   "execution_count": 8,
   "id": "d8f35e2b",
   "metadata": {},
   "outputs": [
    {
     "name": "stdout",
     "output_type": "stream",
     "text": [
      "True\n",
      "1\n",
      "0\n",
      "<torch.cuda.device object at 0x000001938132B230>\n",
      "NVIDIA GeForce GTX 1660 Ti\n"
     ]
    }
   ],
   "source": [
    "import torch\n",
    "\n",
    "cuda_available = torch.cuda.is_available()\n",
    "print(cuda_available)\n",
    "if cuda_available:\n",
    "\tprint(torch.cuda.device_count())\n",
    "\tprint(torch.cuda.current_device())\n",
    "\tprint(torch.cuda.device(0))\n",
    "\tprint(torch.cuda.get_device_name(0))\n",
    "else:\n",
    "\tprint(\"CUDA is not available. PyTorch is running on CPU.\")"
   ]
  },
  {
   "cell_type": "code",
   "execution_count": null,
   "id": "5356849f",
   "metadata": {},
   "outputs": [],
   "source": [
    "model = YOLO('yolov5l6u.pt')\n",
    "model.train(\n",
    "    data=f\"{dataset.location}/data.yaml\",\n",
    "    epochs=100,\n",
    "    imgsz=640\n",
    ")"
   ]
  }
 ],
 "metadata": {
  "kernelspec": {
   "display_name": ".venv",
   "language": "python",
   "name": "python3"
  },
  "language_info": {
   "codemirror_mode": {
    "name": "ipython",
    "version": 3
   },
   "file_extension": ".py",
   "mimetype": "text/x-python",
   "name": "python",
   "nbconvert_exporter": "python",
   "pygments_lexer": "ipython3",
   "version": "3.13.0"
  }
 },
 "nbformat": 4,
 "nbformat_minor": 5
}
