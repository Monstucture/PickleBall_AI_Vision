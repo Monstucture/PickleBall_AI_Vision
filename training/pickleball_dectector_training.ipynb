{
 "cells": [
  {
   "cell_type": "code",
   "execution_count": null,
   "id": "0998895b",
   "metadata": {},
   "outputs": [],
   "source": [
    "!pip install ultralytics\n",
    "!pip install roboflow"
   ]
  },
  {
   "cell_type": "markdown",
   "id": "c8442a63",
   "metadata": {},
   "source": [
    "# Get Data Set"
   ]
  },
  {
   "cell_type": "code",
   "execution_count": 7,
   "id": "5743baae",
   "metadata": {},
   "outputs": [
    {
     "data": {
      "text/plain": [
       "True"
      ]
     },
     "execution_count": 7,
     "metadata": {},
     "output_type": "execute_result"
    }
   ],
   "source": [
    "from roboflow import Roboflow\n",
    "import os\n",
    "from dotenv import load_dotenv\n",
    "load_dotenv('.env.local')"
   ]
  },
  {
   "cell_type": "code",
   "execution_count": null,
   "id": "ba5961c5",
   "metadata": {},
   "outputs": [
    {
     "name": "stdout",
     "output_type": "stream",
     "text": [
      "API_KEY: Ke9DghybyeefBUzzbD9v\n"
     ]
    }
   ],
   "source": [
    "# Load environment variables from .env.local\n",
    "API_KEY = os.getenv(\"API_KEY\")"
   ]
  },
  {
   "cell_type": "code",
   "execution_count": 10,
   "id": "e70ab122",
   "metadata": {},
   "outputs": [
    {
     "name": "stdout",
     "output_type": "stream",
     "text": [
      "loading Roboflow workspace...\n",
      "loading Roboflow project...\n"
     ]
    }
   ],
   "source": [
    "# Initialize Roboflow with the API key\n",
    "rf = Roboflow(api_key=API_KEY)\n",
    "project = rf.workspace(\"monstucture\").project(\"pickleball-vision-vtw2r\")\n",
    "version = project.version(1)\n",
    "dataset = version.download(\"yolov5\")"
   ]
  },
  {
   "cell_type": "code",
   "execution_count": 1,
   "id": "356319cf",
   "metadata": {},
   "outputs": [],
   "source": [
    "import shutil"
   ]
  },
  {
   "cell_type": "code",
   "execution_count": 2,
   "id": "519f1ecb",
   "metadata": {},
   "outputs": [
    {
     "data": {
      "text/plain": [
       "'Pickleball-Vision-1/Pickleball-Vision-1/valid'"
      ]
     },
     "execution_count": 2,
     "metadata": {},
     "output_type": "execute_result"
    }
   ],
   "source": [
    "shutil.move('Pickleball-Vision-1/train', 'Pickleball-Vision-1/Pickleball-Vision-1/train',)\n",
    "shutil.move('Pickleball-Vision-1/test', 'Pickleball-Vision-1/Pickleball-Vision-1/test',)\n",
    "shutil.move('Pickleball-Vision-1/valid', 'Pickleball-Vision-1/Pickleball-Vision-1/valid',)"
   ]
  },
  {
   "cell_type": "code",
   "execution_count": null,
   "id": "5356849f",
   "metadata": {},
   "outputs": [],
   "source": [
    "!yolo task= 'detect' mode= 'train' model= 'yolov516u.pt' data= {dataset.location}'/data.yam' epochs= 100 imgsz= 640"
   ]
  }
 ],
 "metadata": {
  "kernelspec": {
   "display_name": ".venv",
   "language": "python",
   "name": "python3"
  },
  "language_info": {
   "codemirror_mode": {
    "name": "ipython",
    "version": 3
   },
   "file_extension": ".py",
   "mimetype": "text/x-python",
   "name": "python",
   "nbconvert_exporter": "python",
   "pygments_lexer": "ipython3",
   "version": "3.12.6"
  }
 },
 "nbformat": 4,
 "nbformat_minor": 5
}
